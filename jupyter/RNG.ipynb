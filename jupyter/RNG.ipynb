{
 "cells": [
  {
   "cell_type": "markdown",
   "metadata": {},
   "source": [
    "# SFC版DQ3の乱数生成器\n",
    "\n",
    "## TL;DR\n",
    "#### <b>SFC版DQ3の乱数は割と質が良さそう！</b>\n",
    "\n",
    "## 1. 乱数生成器の概要\n",
    "SFC版DQ3の乱数生成器は下記のようなアルゴリズムになっています。\n",
    "\n",
    "```\n",
    "  rand() -> uint8 := R & 0xff\n",
    "\n",
    "where, R: uint32 := The state of a Random Number Generator, transited by following\n",
    "    R(0) = 0xaae21259\n",
    "    R(n) = (R(n-1) * 256) ^ (((R(n-1).range(0, 16) << 2) ^ R(n-1).range(16, 32)) << 1) >> 8\n",
    "  \n",
    "    n.range(lower, upper) := n & (2^upper - 1) >> lower\n",
    "```\n",
    "\n",
    "乱数生成器は下記の2通りの場合に遷移が発生します。\n",
    "\n",
    "1. 乱数の消費が行われたとき (SR at 0012e3)\n",
    "2. フレームが進んだとき (SR at 0006a1)"
   ]
  },
  {
   "cell_type": "markdown",
   "metadata": {},
   "source": [
    "ということで、実際の値を見ていきましょう。"
   ]
  },
  {
   "cell_type": "code",
   "execution_count": 2,
   "metadata": {},
   "outputs": [],
   "source": [
    "// Import the library\n",
    ":dep dq3 = { path = \"../\" }\n",
    "use dq3::rand::*;"
   ]
  },
  {
   "cell_type": "code",
   "execution_count": null,
   "metadata": {},
   "outputs": [],
   "source": [
    "// Construct a RNG and print the initial state.\n",
    "let mut rng = Generator::new(None);\n",
    "println!(\"R(0): {}\", rng.state());"
   ]
  },
  {
   "cell_type": "markdown",
   "metadata": {},
   "source": [
    "Rの初期値はこんな感じです。\n",
    "\n",
    "続いて、何回か乱数生成器を遷移させて、乱数を取得してみましょう。"
   ]
  },
  {
   "cell_type": "code",
   "execution_count": null,
   "metadata": {},
   "outputs": [],
   "source": [
    "// Get rands 4 times.\n",
    "let iter = 5;\n",
    "for i in 1..iter {\n",
    "    println!(\"rand({}): {}\", i, rng.rand());\n",
    "    println!(\"R({}): {}\", i, rng.state());   \n",
    "}"
   ]
  },
  {
   "cell_type": "markdown",
   "metadata": {},
   "source": [
    "## 2. 派生された乱数取得処理\n",
    "### 2.1. 乗算と除算による [0, upper] の一様乱数取得\n",
    "\n",
    "上記のrand関数は [0, 255] の一様整数乱数を返します。<br>\n",
    "しかし実際には、指定した範囲の乱数値を取得したい場合が多々あります。\n",
    "\n",
    "この場合は、 `SR:00133e` によって下記の計算式で `[0, upper]` の一様整数乱数を計算しています。\n",
    "\n",
    "```\n",
    "rand_by_multiply(upper: uint8) -> uint8 := uint8(uint16(rand()) * (upper + 1) / 256)\n",
    "```\n",
    "\n",
    "このサブルーチンは、例えばエンカウント歩数の初期値計算([0, 16]の一様整数乱数を取得)などで利用されています。"
   ]
  },
  {
   "cell_type": "code",
   "execution_count": null,
   "metadata": {},
   "outputs": [],
   "source": [
    "// Get a rand inbound [0, 16].\n",
    "println!(\"{}\", rng.rand_by_multiply(16));\n",
    "println!(\"{}\", rng.state());"
   ]
  },
  {
   "cell_type": "markdown",
   "metadata": {},
   "source": [
    "## 2.2. 多項分布に従った乱数取得\n",
    "\n",
    "一様分布ではなくて、正規分布に近いような乱数を取得したい場合もあるでしょう。<br>\n",
    "この場合は、 `SR: 0014d4` によって、 下記の計算によって多項分布に従った乱数を取得します。\n",
    "\n",
    "```\n",
    "  rand_multinomial(offset, mask) = (offset + multi(n=16, p= rand() & mask)) % 256\n",
    "```\n",
    "\n",
    "わかりやすく説明すると、下記のようになります。\n",
    "\n",
    "  1. rand() によって取得した [0, 255] の一様整数乱数と mask の論理積を取り、 [0, mask]の一様整数乱数に変換する。(mask はおそらく 2^n-1 に当てはまる整数値を前提としている。)\n",
    "  2. 2　を16回施行した結果と offset を足し合わせ、 256で割った値を結果とする。\n",
    "  \n",
    "  \n",
    "このサブルーチンは、例えば下記の値決定の乱数に利用されています。\n",
    "\n",
    "* 物理ダメージ計算: (offset=6, mask=0xf)\n",
    "* 行動順値計算: (offset=136, mask=0x1f)\n",
    "* ステータス成長値計算: (offset=136, mask=0x1f)"
   ]
  },
  {
   "cell_type": "code",
   "execution_count": null,
   "metadata": {},
   "outputs": [],
   "source": [
    "// Get a rand of actiion order value (or a rise of a states)\n",
    "println!(\"{}\", rng.rand_multinomial(136, 0x1f));"
   ]
  },
  {
   "cell_type": "markdown",
   "metadata": {},
   "source": [
    "# 3. 乱数の特性を調べてみる\n",
    "## 3.1. RNGの状態値の周期性\n",
    "\n",
    "以上で基本は抑えられたので、ここからは乱数の様々な特性を見ていきましょう。<br>\n",
    "\n",
    "まずは基本となるRNGの周期性を調べてみます。"
   ]
  },
  {
   "cell_type": "code",
   "execution_count": null,
   "metadata": {},
   "outputs": [],
   "source": [
    "use std::collections::HashSet;\n",
    "\n",
    "// Found interval of RNG.\n",
    "fn rng_sequence_in_interval() -> Vec<State> {\n",
    "    let mut rng = Generator::new(None);\n",
    "    let interval_max: usize = 0x100000000;\n",
    "    let mut sequence = Vec::new();\n",
    "    let mut generated = HashSet::new();\n",
    "    \n",
    "    for _ in 0..interval_max {\n",
    "        rng.transit();\n",
    "        \n",
    "        let state = rng.state();    \n",
    "        if generated.contains(&state) {\n",
    "            break;\n",
    "        }\n",
    "        \n",
    "        sequence.push(state);\n",
    "        generated.insert(state);\n",
    "    }\n",
    "    \n",
    "    let begin = sequence.iter().position(|v| *v == rng.state()).unwrap();\n",
    "    \n",
    "    println!(\"Loopback to index: {:x}\", begin);\n",
    "    \n",
    "    let mut ret = Vec::new();\n",
    "    ret.extend_from_slice(&sequence[begin..]);\n",
    "    return ret;\n",
    "}\n",
    "\n",
    "let seq = rng_sequence_in_interval();\n",
    "println!(\"Interval: {:x}\", seq.len());"
   ]
  },
  {
   "cell_type": "markdown",
   "metadata": {},
   "source": [
    "RNGの周期は `0x7ffffff` (= `2^31-1`) になるようです。1周した後再度初期値に戻っているので、1度のみしか算出されない値もないようですね。"
   ]
  },
  {
   "cell_type": "markdown",
   "metadata": {},
   "source": [
    "## 3.2. rand 関数の出現頻度\n",
    "\n",
    "次は1周期中における `rand` 関数が返す8-bit乱数のヒストグラムを生成してみましょう。"
   ]
  },
  {
   "cell_type": "code",
   "execution_count": null,
   "metadata": {},
   "outputs": [],
   "source": [
    ":dep ndarray = \"0.13.1\"\n",
    "use ndarray;\n",
    "\n",
    "let mut histogram: ndarray::Array1<usize> = ndarray::Array::zeros(256);\n",
    "for state in &seq {\n",
    "    histogram[state.rand() as usize] += 1;\n",
    "}\n",
    "println!(\"{}\", histogram);"
   ]
  },
  {
   "cell_type": "markdown",
   "metadata": {},
   "source": [
    "0のみ `2^23-1` 通り、 他の値は `2^23` 通り生成されるようです。一様な整数乱数が生成出来ていると言って良いでしょう。"
   ]
  },
  {
   "cell_type": "markdown",
   "metadata": {},
   "source": [
    "### 3.3. 連続する2次元の乱数の出現頻度\n",
    "\n",
    "今度は、1周期中における `rand` 関数を2連続で取得した場合のヒストグラムを生成してみます。<br>\n",
    "疑似乱数のアルゴリズムによっては多次元の乱数を取得すると偏りが出てくる場合があります。<br>\n",
    "つまり、次に生成される乱数が前に生成された乱数に依存してしまうということです。\n",
    "この顕著な的な例が [SFCDQ2におけるはぐれメタルのHP決定](http://maru0137.hatenablog.com/entry/2016/10/04/190946) ですね。<br>\n",
    "一方で本当にランダムであれば、以前に生成された乱数からは全く依存を受けないはずで、この方が良い疑似乱数アルゴリズムとされています。<br>\n",
    "(1998年に `Mersenne Twister` というとても質の良い疑似乱数生成アルゴリズムが発表されており、現在ではこちらが広く使われています。PS2DQ5もこれを使っているのが確認されています。)<br>\n",
    "(ちなみに[PS版DQ4/DQ7では線形合同法を利用して乱数を生成しています](https://ch.nicovideo.jp/maru0137/blomaga/ar638062)。ちなみにこれは、[一昔前のglibcのrand関数](https://github.com/bminor/glibc/blob/master/stdlib/random_r.c#L364)とアルゴリズムもパラメータも全く同じ。)\n",
    "\n",
    "\n",
    "ということで、乱数値の2次元のヒストグラムを生成してみましょう。"
   ]
  },
  {
   "cell_type": "code",
   "execution_count": null,
   "metadata": {},
   "outputs": [],
   "source": [
    "let mut hist2d: ndarray::Array2<usize> = ndarray::Array::zeros((256, 256));\n",
    "\n",
    "for i0 in 0..seq.len() {\n",
    "    let i1 = (i0 + 1) % seq.len();\n",
    "    let v0 = seq[i0].rand();\n",
    "    let v1 = seq[i1].rand();\n",
    "    hist2d[[v0 as usize, v1 as usize]] +=1;\n",
    "}\n",
    "\n",
    "println!(\"{}\", hist2d);"
   ]
  },
  {
   "cell_type": "markdown",
   "metadata": {},
   "source": [
    "値が `(0. 0)` の場合だけ `2^15-1` 通り、 他は `2^15` 通りで、ほぼ一様となっています。<br>\n",
    "おっ、これはかなり質の良い方の乱数だと言えるのではないでしょうか！"
   ]
  },
  {
   "cell_type": "markdown",
   "metadata": {},
   "source": [
    "## 4. ゲーム内で実際に利用されている乱数の分布を求めてみる\n",
    "### 4.1. エンカウント歩数の初期値\n",
    "\n",
    "まずはヒストグラムから生成してみます。"
   ]
  },
  {
   "cell_type": "code",
   "execution_count": null,
   "metadata": {},
   "outputs": [],
   "source": [
    "let upper_in_trial: u8 = 16;\n",
    "let trial: usize = 3;\n",
    "let bin_num: usize = (upper_in_trial as usize) * trial + 1;\n",
    "let offset: usize = 0;\n",
    "\n",
    "let mut enc_step_seq = Vec::new();\n",
    "\n",
    "for state in &seq {    \n",
    "    let mut rng = Generator::new(Some(*state));\n",
    "    \n",
    "    let mut sum: u8 = offset as u8;\n",
    "    for _ in 0..trial {\n",
    "        sum += rng.rand_by_multiply(upper_in_trial);\n",
    "    }\n",
    "    \n",
    "    enc_step_seq.push(sum);\n",
    "}\n",
    "\n",
    "let mut enc_step_hists: ndarray::Array1<usize> = ndarray::Array::zeros(bin_num);\n",
    "for enc_step in &enc_step_seq {        \n",
    "    enc_step_hists[*enc_step as usize] += 1;\n",
    "}\n",
    "\n",
    "\n",
    "println!(\"{}\", enc_step_hists);"
   ]
  },
  {
   "cell_type": "markdown",
   "metadata": {},
   "source": [
    "これを使って分布を求めてみましょう。単位は％です。"
   ]
  },
  {
   "cell_type": "code",
   "execution_count": null,
   "metadata": {},
   "outputs": [],
   "source": [
    "let mut enc_step_dists: ndarray::Array1<f64> = ndarray::Array::zeros(bin_num);\n",
    "\n",
    "for i in 0..enc_step_hists.len() {\n",
    "    enc_step_dists[i] = enc_step_hists[i] as f64 * 100_f64 / (seq.len() as f64); \n",
    "}\n",
    "println!(\"{}\", enc_step_dists);"
   ]
  },
  {
   "cell_type": "markdown",
   "metadata": {},
   "source": [
    "[乱数が独立であることを前提にした場合の確率表](http://bamboo.ninja-web.net/dq3/DQ3encsteps_init/DQ3encsteps_init.html)と比べてみると、ほとんど差が無いことが分かります。\n",
    "\n",
    "グラフも描画してみます。"
   ]
  },
  {
   "cell_type": "code",
   "execution_count": null,
   "metadata": {},
   "outputs": [],
   "source": [
    ":dep plotters = { git = \"https://github.com/38/plotters\", default_features = false, features = [\"evcxr\", \"histogram\"] }\n",
    "use plotters;\n",
    "use plotters::prelude::*;\n",
    "\n",
    "let figure = evcxr_figure((1920, 1080), |root| {\n",
    "    root.fill(&WHITE);\n",
    "\n",
    "    let mut chart = ChartBuilder::on(&root)\n",
    "        .x_label_area_size(60)\n",
    "        .y_label_area_size(40)\n",
    "        .margin(5)\n",
    "        .caption(\"Distribution of Encount Step\", (\"sans-serif\", 30.0).into_font())\n",
    "        .build_ranged(0u32..bin_num as u32, 0_f64..5_f64)?;\n",
    "\n",
    "    chart\n",
    "        .configure_mesh()\n",
    "        .y_label_formatter(&|y| format!(\"{}%\", *y))\n",
    "        .disable_x_mesh()\n",
    "        .disable_y_mesh()\n",
    "        .x_label_offset(30)\n",
    "        .y_desc(\"Probability\")\n",
    "        .x_desc(\"Encount Step\")\n",
    "        .axis_desc_style((\"sans-serif\", 15).into_font())\n",
    "        .draw()?;\n",
    "    \n",
    "    chart.draw_series(\n",
    "        Histogram::vertical(&chart)\n",
    "            .style(RED.mix(0.5).filled())\n",
    "            .data(enc_step_seq.iter().map(|x: &u8| (*x as u32, 100_f64 / enc_step_seq.len() as f64))),\n",
    "    )?;\n",
    "    \n",
    "    Ok(())\n",
    "});\n",
    "figure"
   ]
  },
  {
   "cell_type": "markdown",
   "metadata": {},
   "source": [
    "### 4.2. 物理ダメージ計算式における乱数分布\n",
    "\n",
    "まずは `[99, 153]` にclampする前の値を求めます。\n",
    "    "
   ]
  },
  {
   "cell_type": "code",
   "execution_count": null,
   "metadata": {},
   "outputs": [],
   "source": [
    "let offset: u8 = 6_u8;\n",
    "let mask: u8 = 0xf_u8;\n",
    "let bin_num: usize = 256;\n",
    "\n",
    "let mut damage_rand_seq = Vec::new();\n",
    "for state in &seq {    \n",
    "    let mut rng = Generator::new(Some(*state));    \n",
    "    damage_rand_seq.push(rng.rand_multinomial(offset, mask));\n",
    "}"
   ]
  },
  {
   "cell_type": "code",
   "execution_count": null,
   "metadata": {},
   "outputs": [],
   "source": [
    "let figure = evcxr_figure((3840, 2160), |root| {\n",
    "    root.fill(&WHITE);\n",
    "\n",
    "    let mut chart = ChartBuilder::on(&root)\n",
    "        .x_label_area_size(35)\n",
    "        .y_label_area_size(40)\n",
    "        .margin(5)\n",
    "        .caption(\"Distribution of Damage Rand(Before clamped)\", (\"sans-serif\", 30.0).into_font())\n",
    "        .build_ranged(0_u32..bin_num as u32, 0_f64..2.5_f64)?;\n",
    "\n",
    "    chart\n",
    "        .configure_mesh()\n",
    "        .y_label_formatter(&|y| format!(\"{}%\", *y))\n",
    "        .disable_x_mesh()\n",
    "        .disable_y_mesh()\n",
    "        .x_labels(32)\n",
    "        .x_label_offset(30)\n",
    "        .y_desc(\"Probability\")\n",
    "        .x_desc(\"Physical Damage Rand (Before clamp)\")\n",
    "        .axis_desc_style((\"sans-serif\", 15).into_font())\n",
    "        .draw()?;\n",
    "    \n",
    "    chart.draw_series(\n",
    "        Histogram::vertical(&chart)\n",
    "            .style(RED.mix(0.5).filled())\n",
    "            .data(damage_rand_seq.iter().map(|x: &u8| (*x as u32, 100_f64 / damage_rand_seq.len() as f64))),\n",
    "    )?;\n",
    "    \n",
    "    Ok(())\n",
    "});\n",
    "figure"
   ]
  },
  {
   "cell_type": "markdown",
   "metadata": {},
   "source": [
    "実際の物理ダメージ計算ではこの後、 `[99, 153]` にclampされて利用されます。\n",
    "ということでclampしてみましょう。"
   ]
  },
  {
   "cell_type": "code",
   "execution_count": null,
   "metadata": {},
   "outputs": [],
   "source": [
    "let mut damage_rand_clamped_seq = Vec::new();\n",
    "for rand in &damage_rand_seq {    \n",
    "    damage_rand_clamped_seq.push(std::cmp::max(99_u8, std::cmp::min(153_u8, *rand)));\n",
    "}"
   ]
  },
  {
   "cell_type": "code",
   "execution_count": null,
   "metadata": {},
   "outputs": [],
   "source": [
    "let figure = evcxr_figure((1920, 1080), |root| {\n",
    "    root.fill(&WHITE);\n",
    "\n",
    "    let mut chart = ChartBuilder::on(&root)\n",
    "        .x_label_area_size(60)\n",
    "        .y_label_area_size(40)\n",
    "        .margin(5)\n",
    "        .caption(\"Distribution of Damage Rand\", (\"sans-serif\", 30.0).into_font())\n",
    "        .build_ranged(90_u32..160_u32, 0_f64..8_f64)?;\n",
    "\n",
    "    chart\n",
    "        .configure_mesh()\n",
    "        .y_label_formatter(&|y| format!(\"{}%\", *y))\n",
    "        .disable_x_mesh()\n",
    "        .disable_y_mesh()\n",
    "        .x_label_offset(30)\n",
    "        .y_desc(\"Probability\")\n",
    "        .x_desc(\"Physical Damage Rand\")\n",
    "        .axis_desc_style((\"sans-serif\", 15).into_font())\n",
    "        .draw()?;\n",
    "    \n",
    "    chart.draw_series(\n",
    "        Histogram::vertical(&chart)\n",
    "            .style(RED.mix(0.5).filled())\n",
    "            .data(damage_rand_clamped_seq.iter().map(|x: &u8| (*x as u32, 100_f64 / damage_rand_clamped_seq.len() as f64))),\n",
    "    )?;\n",
    "    \n",
    "    Ok(())\n",
    "});\n",
    "figure"
   ]
  },
  {
   "cell_type": "markdown",
   "metadata": {},
   "source": [
    "### 4.3. 行動値計算 または ステータス成長値計算における乱数"
   ]
  },
  {
   "cell_type": "code",
   "execution_count": null,
   "metadata": {},
   "outputs": [],
   "source": [
    "let offset: u8 = 136_u8;\n",
    "let mask: u8 = 0x1f_u8;\n",
    "let bin_num: usize = 256;\n",
    "\n",
    "let mut action_rand_seq = Vec::new();\n",
    "for state in &seq {    \n",
    "    let mut rng = Generator::new(Some(*state));    \n",
    "    action_rand_seq.push(rng.rand_multinomial(offset, mask));\n",
    "}"
   ]
  },
  {
   "cell_type": "code",
   "execution_count": null,
   "metadata": {},
   "outputs": [],
   "source": [
    "let figure = evcxr_figure((3840, 2160), |root| {\n",
    "    root.fill(&WHITE);\n",
    "\n",
    "    let mut chart = ChartBuilder::on(&root)\n",
    "        .x_label_area_size(60)\n",
    "        .y_label_area_size(40)\n",
    "        .margin(5)\n",
    "        .caption(\"Distribution of Action Order Rand\", (\"sans-serif\", 30.0).into_font())\n",
    "        .build_ranged(0_u32..256_u32 as u32, 0f64..1.2_f64)?;\n",
    "\n",
    "    chart\n",
    "        .configure_mesh()\n",
    "        .y_label_formatter(&|y| format!(\"{}%\", *y))\n",
    "        .disable_x_mesh()\n",
    "        .disable_y_mesh()\n",
    "        .x_label_offset(30)\n",
    "        .y_desc(\"Probability\")\n",
    "        .x_desc(\"Action Order Rand\")\n",
    "        .axis_desc_style((\"sans-serif\", 15).into_font())\n",
    "        .draw()?;\n",
    "    \n",
    "    chart.draw_series(\n",
    "        Histogram::vertical(&chart)\n",
    "            .style(RED.mix(0.5).filled())\n",
    "            .data(action_rand_seq.iter().map(|x: &u8| (*x as u32, 100_f64 / damage_rand_seq.len() as f64))),\n",
    "    )?;\n",
    "    \n",
    "    Ok(())\n",
    "});\n",
    "figure"
   ]
  },
  {
   "cell_type": "markdown",
   "metadata": {},
   "source": [
    "# 5. 参考文献\n",
    "* [初期歩数の説明](http://bamboo.ninja-web.net/dq3/DQ3encsteps_init/DQ3encsteps_init.html)\n",
    "* [SFC版DQ3 打撃ダメージ値乱数を考える](https://ch.nicovideo.jp/mugensai/blomaga/ar149138)\n",
    "* [SFC版DQ3直接攻撃](http://baa.game-ss.com/dq3/dq3dageki)\n",
    "* [SFC版ドラゴンクエスト３の行動順と素早さの関係](http://baa.game-ss.com/dq3/sfc%E7%89%88%E3%83%89%E3%83%A9%E3%82%B4%E3%83%B3%E3%82%AF%E3%82%A8%E3%82%B9%E3%83%88%EF%BC%93%E3%81%AE%E8%A1%8C%E5%8B%95%E9%A0%86%E3%81%A8%E7%B4%A0%E6%97%A9%E3%81%95%E3%81%AE%E9%96%A2%E4%BF%82)\n"
   ]
  },
  {
   "cell_type": "code",
   "execution_count": null,
   "metadata": {},
   "outputs": [],
   "source": []
  }
 ],
 "metadata": {
  "kernelspec": {
   "display_name": "Rust",
   "language": "rust",
   "name": "rust"
  },
  "language_info": {
   "codemirror_mode": "rust",
   "file_extension": ".rs",
   "mimetype": "text/rust",
   "name": "Rust",
   "pygment_lexer": "rust",
   "version": ""
  }
 },
 "nbformat": 4,
 "nbformat_minor": 4
}
