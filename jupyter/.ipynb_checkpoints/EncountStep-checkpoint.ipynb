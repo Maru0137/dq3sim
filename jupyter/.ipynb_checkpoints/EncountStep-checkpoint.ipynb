{
 "cells": [
  {
   "cell_type": "code",
   "execution_count": 4,
   "metadata": {},
   "outputs": [],
   "source": [
    ":dep dq3 = { path = \"../\" }\n",
    "use dq3::rand::Rng;"
   ]
  },
  {
   "cell_type": "code",
   "execution_count": 5,
   "metadata": {},
   "outputs": [
    {
     "name": "stdout",
     "output_type": "stream",
     "text": [
      "aae21259\n"
     ]
    }
   ],
   "source": [
    "let mut rng = Rng::new(None);\n",
    "println!(\"{:x}\", rng.state());"
   ]
  },
  {
   "cell_type": "code",
   "execution_count": 6,
   "metadata": {},
   "outputs": [
    {
     "data": {
      "text/html": [
       "<table><tr><th>Variable</th><th>Type</th></tr><tr><td>rng</td><td>dq3::rand::Rng</td><tr></table>"
      ],
      "text/plain": [
       "rng: dq3::rand::Rng\n"
      ]
     },
     "execution_count": 6,
     "metadata": {},
     "output_type": "execute_result"
    }
   ],
   "source": [
    ":vars"
   ]
  },
  {
   "cell_type": "code",
   "execution_count": 14,
   "metadata": {},
   "outputs": [
    {
     "data": {
      "text/plain": [
       "()"
      ]
     },
     "execution_count": 14,
     "metadata": {},
     "output_type": "execute_result"
    }
   ],
   "source": [
    "let upper_by_trial: u8 = 16;\n",
    "let trial: usize = 3;\n",
    "let upper_sum: u8 = upper_by_trial * (trial as u8);\n",
    "let sample: usize = 1000000;\n",
    "let sequence_size = sample + trial - 1;\n",
    "\n",
    "let mut rng = Rng::new(None);\n",
    "let mut sequence = Vec::new();\n",
    "for _ in 0..sequence_size {\n",
    "    sequence.push(rng.rand_by_multiply(upper_by_trial));\n",
    "}"
   ]
  },
  {
   "cell_type": "code",
   "execution_count": 15,
   "metadata": {},
   "outputs": [
    {
     "data": {
      "text/plain": [
       "()"
      ]
     },
     "execution_count": 15,
     "metadata": {},
     "output_type": "execute_result"
    }
   ],
   "source": [
    "let mut encount_steps = Vec::new();\n",
    "for i in 0..sample {\n",
    "    let slice = &sequence[i..i+trial];\n",
    "    let encount_step = slice.iter().fold(0, |acc, v| acc + *v);\n",
    "    encount_steps.push(encount_step);\n",
    "}"
   ]
  },
  {
   "cell_type": "code",
   "execution_count": 31,
   "metadata": {},
   "outputs": [
    {
     "data": {
      "text/html": [
       "<div style=\"\"><svg width=\"960\" height=\"540\" viewBox=\"0 0 960 540\" xmlns=\"http://www.w3.org/2000/svg\">\n",
       "<rect x=\"0\" y=\"0\" width=\"959\" height=\"539\" opacity=\"1\" fill=\"#FFFFFF\" stroke=\"none\"/>\n",
       "<text x=\"480\" y=\"10\" dy=\"0.76em\" text-anchor=\"middle\" font-family=\"sans-serif\" font-size=\"24.193548387096776\" opacity=\"1\" fill=\"#000000\">\n",
       "Distribution of Encount Step\n",
       "</text>\n",
       "<text x=\"5\" y=\"270\" dy=\"0.76em\" text-anchor=\"middle\" font-family=\"sans-serif\" font-size=\"12.096774193548388\" opacity=\"1\" fill=\"#000000\" transform=\"rotate(270, 5, 270)\">\n",
       "Probability\n",
       "</text>\n",
       "<text x=\"500\" y=\"535\" dy=\"-0.5ex\" text-anchor=\"middle\" font-family=\"sans-serif\" font-size=\"12.096774193548388\" opacity=\"1\" fill=\"#000000\">\n",
       "Encount Step\n",
       "</text>\n",
       "<polyline fill=\"none\" opacity=\"1\" stroke=\"#000000\" stroke-width=\"1\" points=\"44,40 44,500 \"/>\n",
       "<text x=\"35\" y=\"453\" dy=\"0.5ex\" text-anchor=\"end\" font-family=\"sans-serif\" font-size=\"9.67741935483871\" opacity=\"1\" fill=\"#000000\">\n",
       "0.5%\n",
       "</text>\n",
       "<polyline fill=\"none\" opacity=\"1\" stroke=\"#000000\" stroke-width=\"1\" points=\"39,453 44,453 \"/>\n",
       "<text x=\"35\" y=\"407\" dy=\"0.5ex\" text-anchor=\"end\" font-family=\"sans-serif\" font-size=\"9.67741935483871\" opacity=\"1\" fill=\"#000000\">\n",
       "1%\n",
       "</text>\n",
       "<polyline fill=\"none\" opacity=\"1\" stroke=\"#000000\" stroke-width=\"1\" points=\"39,407 44,407 \"/>\n",
       "<text x=\"35\" y=\"361\" dy=\"0.5ex\" text-anchor=\"end\" font-family=\"sans-serif\" font-size=\"9.67741935483871\" opacity=\"1\" fill=\"#000000\">\n",
       "1.5%\n",
       "</text>\n",
       "<polyline fill=\"none\" opacity=\"1\" stroke=\"#000000\" stroke-width=\"1\" points=\"39,361 44,361 \"/>\n",
       "<text x=\"35\" y=\"315\" dy=\"0.5ex\" text-anchor=\"end\" font-family=\"sans-serif\" font-size=\"9.67741935483871\" opacity=\"1\" fill=\"#000000\">\n",
       "2%\n",
       "</text>\n",
       "<polyline fill=\"none\" opacity=\"1\" stroke=\"#000000\" stroke-width=\"1\" points=\"39,315 44,315 \"/>\n",
       "<text x=\"35\" y=\"269\" dy=\"0.5ex\" text-anchor=\"end\" font-family=\"sans-serif\" font-size=\"9.67741935483871\" opacity=\"1\" fill=\"#000000\">\n",
       "2.5%\n",
       "</text>\n",
       "<polyline fill=\"none\" opacity=\"1\" stroke=\"#000000\" stroke-width=\"1\" points=\"39,269 44,269 \"/>\n",
       "<text x=\"35\" y=\"223\" dy=\"0.5ex\" text-anchor=\"end\" font-family=\"sans-serif\" font-size=\"9.67741935483871\" opacity=\"1\" fill=\"#000000\">\n",
       "3%\n",
       "</text>\n",
       "<polyline fill=\"none\" opacity=\"1\" stroke=\"#000000\" stroke-width=\"1\" points=\"39,223 44,223 \"/>\n",
       "<text x=\"35\" y=\"177\" dy=\"0.5ex\" text-anchor=\"end\" font-family=\"sans-serif\" font-size=\"9.67741935483871\" opacity=\"1\" fill=\"#000000\">\n",
       "3.5%\n",
       "</text>\n",
       "<polyline fill=\"none\" opacity=\"1\" stroke=\"#000000\" stroke-width=\"1\" points=\"39,177 44,177 \"/>\n",
       "<text x=\"35\" y=\"131\" dy=\"0.5ex\" text-anchor=\"end\" font-family=\"sans-serif\" font-size=\"9.67741935483871\" opacity=\"1\" fill=\"#000000\">\n",
       "4%\n",
       "</text>\n",
       "<polyline fill=\"none\" opacity=\"1\" stroke=\"#000000\" stroke-width=\"1\" points=\"39,131 44,131 \"/>\n",
       "<text x=\"35\" y=\"85\" dy=\"0.5ex\" text-anchor=\"end\" font-family=\"sans-serif\" font-size=\"9.67741935483871\" opacity=\"1\" fill=\"#000000\">\n",
       "4.5%\n",
       "</text>\n",
       "<polyline fill=\"none\" opacity=\"1\" stroke=\"#000000\" stroke-width=\"1\" points=\"39,85 44,85 \"/>\n",
       "<polyline fill=\"none\" opacity=\"1\" stroke=\"#000000\" stroke-width=\"1\" points=\"45,500 955,500 \"/>\n",
       "<text x=\"75\" y=\"510\" dy=\"0.76em\" text-anchor=\"middle\" font-family=\"sans-serif\" font-size=\"9.67741935483871\" opacity=\"1\" fill=\"#000000\">\n",
       "0\n",
       "</text>\n",
       "<polyline fill=\"none\" opacity=\"1\" stroke=\"#000000\" stroke-width=\"1\" points=\"45,500 45,505 \"/>\n",
       "<text x=\"264\" y=\"510\" dy=\"0.76em\" text-anchor=\"middle\" font-family=\"sans-serif\" font-size=\"9.67741935483871\" opacity=\"1\" fill=\"#000000\">\n",
       "10\n",
       "</text>\n",
       "<polyline fill=\"none\" opacity=\"1\" stroke=\"#000000\" stroke-width=\"1\" points=\"234,500 234,505 \"/>\n",
       "<text x=\"454\" y=\"510\" dy=\"0.76em\" text-anchor=\"middle\" font-family=\"sans-serif\" font-size=\"9.67741935483871\" opacity=\"1\" fill=\"#000000\">\n",
       "20\n",
       "</text>\n",
       "<polyline fill=\"none\" opacity=\"1\" stroke=\"#000000\" stroke-width=\"1\" points=\"424,500 424,505 \"/>\n",
       "<text x=\"643\" y=\"510\" dy=\"0.76em\" text-anchor=\"middle\" font-family=\"sans-serif\" font-size=\"9.67741935483871\" opacity=\"1\" fill=\"#000000\">\n",
       "30\n",
       "</text>\n",
       "<polyline fill=\"none\" opacity=\"1\" stroke=\"#000000\" stroke-width=\"1\" points=\"613,500 613,505 \"/>\n",
       "<text x=\"833\" y=\"510\" dy=\"0.76em\" text-anchor=\"middle\" font-family=\"sans-serif\" font-size=\"9.67741935483871\" opacity=\"1\" fill=\"#000000\">\n",
       "40\n",
       "</text>\n",
       "<polyline fill=\"none\" opacity=\"1\" stroke=\"#000000\" stroke-width=\"1\" points=\"803,500 803,505 \"/>\n",
       "<rect x=\"789\" y=\"396\" width=\"9\" height=\"103\" opacity=\"0.5\" fill=\"#FF0000\" stroke=\"none\"/>\n",
       "<rect x=\"884\" y=\"470\" width=\"9\" height=\"29\" opacity=\"0.5\" fill=\"#FF0000\" stroke=\"none\"/>\n",
       "<rect x=\"922\" y=\"488\" width=\"9\" height=\"11\" opacity=\"0.5\" fill=\"#FF0000\" stroke=\"none\"/>\n",
       "<rect x=\"429\" y=\"121\" width=\"9\" height=\"378\" opacity=\"0.5\" fill=\"#FF0000\" stroke=\"none\"/>\n",
       "<rect x=\"770\" y=\"375\" width=\"9\" height=\"124\" opacity=\"0.5\" fill=\"#FF0000\" stroke=\"none\"/>\n",
       "<rect x=\"960\" y=\"497\" width=\"-10\" height=\"2\" opacity=\"0.5\" fill=\"#FF0000\" stroke=\"none\"/>\n",
       "<rect x=\"865\" y=\"461\" width=\"9\" height=\"38\" opacity=\"0.5\" fill=\"#FF0000\" stroke=\"none\"/>\n",
       "<rect x=\"144\" y=\"458\" width=\"9\" height=\"41\" opacity=\"0.5\" fill=\"#FF0000\" stroke=\"none\"/>\n",
       "<rect x=\"542\" y=\"104\" width=\"9\" height=\"395\" opacity=\"0.5\" fill=\"#FF0000\" stroke=\"none\"/>\n",
       "<rect x=\"618\" y=\"163\" width=\"9\" height=\"336\" opacity=\"0.5\" fill=\"#FF0000\" stroke=\"none\"/>\n",
       "<rect x=\"694\" y=\"273\" width=\"9\" height=\"226\" opacity=\"0.5\" fill=\"#FF0000\" stroke=\"none\"/>\n",
       "<rect x=\"599\" y=\"140\" width=\"9\" height=\"359\" opacity=\"0.5\" fill=\"#FF0000\" stroke=\"none\"/>\n",
       "<rect x=\"903\" y=\"480\" width=\"9\" height=\"19\" opacity=\"0.5\" fill=\"#FF0000\" stroke=\"none\"/>\n",
       "<rect x=\"675\" y=\"247\" width=\"9\" height=\"252\" opacity=\"0.5\" fill=\"#FF0000\" stroke=\"none\"/>\n",
       "<rect x=\"220\" y=\"393\" width=\"9\" height=\"106\" opacity=\"0.5\" fill=\"#FF0000\" stroke=\"none\"/>\n",
       "<rect x=\"106\" y=\"478\" width=\"9\" height=\"21\" opacity=\"0.5\" fill=\"#FF0000\" stroke=\"none\"/>\n",
       "<rect x=\"732\" y=\"330\" width=\"9\" height=\"169\" opacity=\"0.5\" fill=\"#FF0000\" stroke=\"none\"/>\n",
       "<rect x=\"941\" y=\"493\" width=\"9\" height=\"6\" opacity=\"0.5\" fill=\"#FF0000\" stroke=\"none\"/>\n",
       "<rect x=\"258\" y=\"350\" width=\"9\" height=\"149\" opacity=\"0.5\" fill=\"#FF0000\" stroke=\"none\"/>\n",
       "<rect x=\"751\" y=\"355\" width=\"9\" height=\"144\" opacity=\"0.5\" fill=\"#FF0000\" stroke=\"none\"/>\n",
       "<rect x=\"50\" y=\"496\" width=\"8\" height=\"3\" opacity=\"0.5\" fill=\"#FF0000\" stroke=\"none\"/>\n",
       "<rect x=\"410\" y=\"139\" width=\"9\" height=\"360\" opacity=\"0.5\" fill=\"#FF0000\" stroke=\"none\"/>\n",
       "<rect x=\"125\" y=\"469\" width=\"9\" height=\"30\" opacity=\"0.5\" fill=\"#FF0000\" stroke=\"none\"/>\n",
       "<rect x=\"334\" y=\"240\" width=\"9\" height=\"259\" opacity=\"0.5\" fill=\"#FF0000\" stroke=\"none\"/>\n",
       "<rect x=\"656\" y=\"215\" width=\"9\" height=\"284\" opacity=\"0.5\" fill=\"#FF0000\" stroke=\"none\"/>\n",
       "<rect x=\"713\" y=\"304\" width=\"9\" height=\"195\" opacity=\"0.5\" fill=\"#FF0000\" stroke=\"none\"/>\n",
       "<rect x=\"87\" y=\"487\" width=\"9\" height=\"12\" opacity=\"0.5\" fill=\"#FF0000\" stroke=\"none\"/>\n",
       "<rect x=\"315\" y=\"270\" width=\"9\" height=\"229\" opacity=\"0.5\" fill=\"#FF0000\" stroke=\"none\"/>\n",
       "<rect x=\"561\" y=\"109\" width=\"9\" height=\"390\" opacity=\"0.5\" fill=\"#FF0000\" stroke=\"none\"/>\n",
       "<rect x=\"163\" y=\"444\" width=\"9\" height=\"55\" opacity=\"0.5\" fill=\"#FF0000\" stroke=\"none\"/>\n",
       "<rect x=\"846\" y=\"447\" width=\"9\" height=\"52\" opacity=\"0.5\" fill=\"#FF0000\" stroke=\"none\"/>\n",
       "<rect x=\"448\" y=\"110\" width=\"9\" height=\"389\" opacity=\"0.5\" fill=\"#FF0000\" stroke=\"none\"/>\n",
       "<rect x=\"486\" y=\"96\" width=\"9\" height=\"403\" opacity=\"0.5\" fill=\"#FF0000\" stroke=\"none\"/>\n",
       "<rect x=\"391\" y=\"157\" width=\"9\" height=\"342\" opacity=\"0.5\" fill=\"#FF0000\" stroke=\"none\"/>\n",
       "<rect x=\"201\" y=\"413\" width=\"9\" height=\"86\" opacity=\"0.5\" fill=\"#FF0000\" stroke=\"none\"/>\n",
       "<rect x=\"505\" y=\"91\" width=\"8\" height=\"408\" opacity=\"0.5\" fill=\"#FF0000\" stroke=\"none\"/>\n",
       "<rect x=\"296\" y=\"299\" width=\"9\" height=\"200\" opacity=\"0.5\" fill=\"#FF0000\" stroke=\"none\"/>\n",
       "<rect x=\"372\" y=\"185\" width=\"9\" height=\"314\" opacity=\"0.5\" fill=\"#FF0000\" stroke=\"none\"/>\n",
       "<rect x=\"182\" y=\"430\" width=\"9\" height=\"69\" opacity=\"0.5\" fill=\"#FF0000\" stroke=\"none\"/>\n",
       "<rect x=\"277\" y=\"324\" width=\"9\" height=\"175\" opacity=\"0.5\" fill=\"#FF0000\" stroke=\"none\"/>\n",
       "<rect x=\"808\" y=\"414\" width=\"9\" height=\"85\" opacity=\"0.5\" fill=\"#FF0000\" stroke=\"none\"/>\n",
       "<rect x=\"353\" y=\"213\" width=\"9\" height=\"286\" opacity=\"0.5\" fill=\"#FF0000\" stroke=\"none\"/>\n",
       "<rect x=\"467\" y=\"101\" width=\"9\" height=\"398\" opacity=\"0.5\" fill=\"#FF0000\" stroke=\"none\"/>\n",
       "<rect x=\"239\" y=\"371\" width=\"9\" height=\"128\" opacity=\"0.5\" fill=\"#FF0000\" stroke=\"none\"/>\n",
       "<rect x=\"68\" y=\"492\" width=\"9\" height=\"7\" opacity=\"0.5\" fill=\"#FF0000\" stroke=\"none\"/>\n",
       "<rect x=\"523\" y=\"99\" width=\"9\" height=\"400\" opacity=\"0.5\" fill=\"#FF0000\" stroke=\"none\"/>\n",
       "<rect x=\"580\" y=\"124\" width=\"9\" height=\"375\" opacity=\"0.5\" fill=\"#FF0000\" stroke=\"none\"/>\n",
       "<rect x=\"637\" y=\"188\" width=\"9\" height=\"311\" opacity=\"0.5\" fill=\"#FF0000\" stroke=\"none\"/>\n",
       "<rect x=\"827\" y=\"432\" width=\"9\" height=\"67\" opacity=\"0.5\" fill=\"#FF0000\" stroke=\"none\"/>\n",
       "</svg>\n",
       "</div>"
      ]
     },
     "execution_count": 31,
     "metadata": {},
     "output_type": "execute_result"
    }
   ],
   "source": [
    ":dep plotters = { git = \"https://github.com/38/plotters\", default_features = false, features = [\"evcxr\", \"histogram\"] }\n",
    "use plotters;\n",
    "use plotters::prelude::*;\n",
    "\n",
    "let figure = evcxr_figure((960, 540), |root| {\n",
    "    root.fill(&WHITE);\n",
    "\n",
    "    let mut chart = ChartBuilder::on(&root)\n",
    "        .x_label_area_size(35)\n",
    "        .y_label_area_size(40)\n",
    "        .margin(5)\n",
    "        .caption(\"Distribution of Encount Step\", (\"sans-serif\", 30.0).into_font())\n",
    "        .build_ranged(0u32..upper_sum as u32, 0f32..5f32)?;\n",
    "\n",
    "    chart\n",
    "        .configure_mesh()\n",
    "        .y_label_formatter(&|y| format!(\"{}%\", *y))\n",
    "        .disable_x_mesh()\n",
    "        .disable_y_mesh()\n",
    "        .line_style_1(&WHITE.mix(0.3))\n",
    "        .x_label_offset(30)\n",
    "        .y_desc(\"Probability\")\n",
    "        .x_desc(\"Encount Step\")\n",
    "        .axis_desc_style((\"sans-serif\", 15).into_font())\n",
    "        .draw()?;\n",
    "    \n",
    "    chart.draw_series(\n",
    "        Histogram::vertical(&chart)\n",
    "            .style(RED.mix(0.5).filled())\n",
    "            .data(encount_steps.iter().map(|x: &u8| (*x as u32, 100f32 / sample as f32))),\n",
    "    )?;\n",
    "    \n",
    "    Ok(())\n",
    "});\n",
    "figure"
   ]
  },
  {
   "cell_type": "code",
   "execution_count": null,
   "metadata": {},
   "outputs": [],
   "source": []
  }
 ],
 "metadata": {
  "kernelspec": {
   "display_name": "Rust",
   "language": "rust",
   "name": "rust"
  },
  "language_info": {
   "codemirror_mode": "rust",
   "file_extension": ".rs",
   "mimetype": "text/rust",
   "name": "Rust",
   "pygment_lexer": "rust",
   "version": ""
  }
 },
 "nbformat": 4,
 "nbformat_minor": 4
}
