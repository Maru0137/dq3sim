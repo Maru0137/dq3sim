{
 "cells": [
  {
   "cell_type": "markdown",
   "metadata": {},
   "source": [
    "# Rust で実装した DQRTAのシミュレーションを JupyterLab 上で可視化して共有する\n",
    "\n",
    "ドラゴンクエストシリーズのRTAにおいて、解析結果で得られた情報や、それを使ってシミュレーションした結果を可視化して共有したい場合がよくあります。<br>\n",
    "昔は結果をcsvとかで出力して、それをExcelシートやスプレッドシートにimportしてグラフ作成とかしていましたが、どうせならもっとスマートかつオシャレにやりたいですね。\n",
    "\n",
    "ということで、低レイヤーかつ高速なシミュレーションと、今どきのデータサイエンスを組み合わせるべく、下記のようにやってみました。\n",
    "\n",
    "* コア機能は `Rust` で実装\n",
    "* [evcxr-jupyter](https://github.com/google/evcxr/tree/master/evcxr_jupyter) を使って `JupyterLab` 上で実行\n",
    "* グラフは `plotter` で描画"
   ]
  },
  {
   "cell_type": "markdown",
   "metadata": {},
   "source": [
    "## 1. コア機能を Rust で実装\n",
    "\n",
    "ROM解析の結果をシミュレーションするようなライブラリを実装します。さて、早速プログラミング言語やフレームワークを使うか決める必要がありますが、今回の場合は下記の要件が重要になってきそうです。\n",
    "\n",
    "1. ビット演算やビット精度など、低レイヤーな振る舞いまで再現したい。\n",
    "2. 高速にシミュレーションを回したい。\n",
    "3. 実装したライブラリを使って、PWAなシミュレータやツールも公開出来るようにしたい。\n",
    "\n",
    "僕の中では1, 2の時点でほぼ C/C++ か Rust に絞られました(あとはあるとしたらGolang?)。さて、残る3番目の要件が決め手になります。つまり、実装したコアライブラリをJavaScriptから叩きたいのですが、`WebAssembly` を使うとスマートに実現出来そうですね。そして、WASMといえばRustが一番対応が進んでいそう、ということでRustを使うことに決めました。C++も `Emscripten` を使えばWASMも出力できますが、ABIのせいで毎回 `extern C` しなきゃいけないのが面倒だよね...\n",
    "\n",
    "ということで、まずはSFC版DQ3の乱数生成の仕様を解析して、[シミュレータを実装しました](https://github.com/Maru0137/dq3sim)。 [wasm-binding](https://github.com/rustwasm/wasm-bindgen) で関数や構造体を簡単にbindingして、 [wasm-pack](https://github.com/rustwasm/wasm-pack)で簡単にnpmパッケージをビルドしてpublishできて、とてもお手軽でした。"
   ]
  },
  {
   "cell_type": "markdown",
   "metadata": {},
   "source": [
    "# 2. Jupyter Lab 上で実行\n",
    "\n",
    "プレイヤーに実際に使ってもらうようなツールはフロントエンドを実装して公開すればよいのですが、文章も混ざった調査結果みたいなものは [Jupyter](https://jupyter.org/)みたいなものを使うほうが良さそうです。調べてみると、Rustのインタプリタである `evcxr` を使ったKernelの `evcxr-jupyter` を使って、Jupyter上でRustが使えそうな事がわかりました。\n",
    "\n",
    "ということで、早速インストールして試してみましょう。"
   ]
  },
  {
   "cell_type": "markdown",
   "metadata": {},
   "source": [
    "### 2.1. Crateのimport\n",
    "1 で実装したコアライブラリのCrateをimportしましょう。 `:dep` コマンドで `Cargo` で定義しているようなdependencyが記述できて、crateがimportできるようです。"
   ]
  },
  {
   "cell_type": "code",
   "execution_count": 2,
   "metadata": {},
   "outputs": [],
   "source": [
    ":dep dq3 = { path = \"../\" }\n",
    "use dq3::rand::Rng;"
   ]
  },
  {
   "cell_type": "markdown",
   "metadata": {},
   "source": [
    "さっそく乱数生成器を生成して、乱数値を表示してみましょう。"
   ]
  },
  {
   "cell_type": "code",
   "execution_count": 3,
   "metadata": {},
   "outputs": [
    {
     "name": "stdout",
     "output_type": "stream",
     "text": [
      "aae21259\n"
     ]
    }
   ],
   "source": [
    "let mut rng = Rng::new(None);\n",
    "println!(\"{:x}\", rng.state());"
   ]
  },
  {
   "cell_type": "markdown",
   "metadata": {},
   "source": [
    "ちゃんと初期値が表示されました、やったね！<br>\n",
    "`:var` コマンドで変数一覧も表示できるようです。"
   ]
  },
  {
   "cell_type": "code",
   "execution_count": 4,
   "metadata": {},
   "outputs": [
    {
     "data": {
      "text/html": [
       "<table><tr><th>Variable</th><th>Type</th></tr><tr><td>rng</td><td>dq3::rand::Rng</td><tr></table>"
      ],
      "text/plain": [
       "rng: dq3::rand::Rng\n"
      ]
     },
     "execution_count": 4,
     "metadata": {},
     "output_type": "execute_result"
    }
   ],
   "source": [
    ":vars"
   ]
  },
  {
   "cell_type": "markdown",
   "metadata": {},
   "source": [
    "### 2.2. 実装した乱数生成器を使って、エンカウント歩数初期値の分布をシミュレーション\n",
    "\n",
    "身近な例として、SFC版DQ3のエンカウント歩数初期値の分布をシミュレーションしてみましょう。今までも[仕様の解析や分布が計算はされています](https://ch.nicovideo.jp/mugensai/blomaga/ar161397)が、ここでのモチベーションは、実際の乱数生成器のもとでシミュレーションするとどうなるのかを確認することです。なぜこんなことをやるかは、例えば [この文章](http://www001.upp.so-net.ne.jp/isaku/rand.html)などを参照してください。 \n",
    "\n",
    "ということで、まずは`[0, 16]` の区間の乱数列を100万サンプル生成してみましょう。このNotebookのコンセプトはあくまでJupyterを試すことなので、乱数生成の仕様は別の機会で説明することとします。\n",
    "\n",
    "(本当はvecを表示したかったのですが、Python版のような要素の省略と展開が出来ず、100万要素の乱数全てが表示されてしまったので、ここでは省略します。)"
   ]
  },
  {
   "cell_type": "code",
   "execution_count": 5,
   "metadata": {},
   "outputs": [
    {
     "data": {
      "text/plain": [
       "()"
      ]
     },
     "execution_count": 5,
     "metadata": {},
     "output_type": "execute_result"
    }
   ],
   "source": [
    "let upper_by_trial: u8 = 16;\n",
    "let trial: usize = 3;\n",
    "let upper_sum: u8 = upper_by_trial * (trial as u8);\n",
    "let sample: usize = 1000000;\n",
    "let sequence_size = sample + trial - 1;\n",
    "\n",
    "let mut rng = Rng::new(None);\n",
    "let mut sequence = Vec::new();\n",
    "for _ in 0..sequence_size {\n",
    "    sequence.push(rng.rand_by_multiply(upper_by_trial));\n",
    "}"
   ]
  },
  {
   "cell_type": "markdown",
   "metadata": {},
   "source": [
    "そこから、連続する3つの乱数列を取り出して加算すると、エンカウント歩数の初期値の乱数になります。"
   ]
  },
  {
   "cell_type": "code",
   "execution_count": 6,
   "metadata": {},
   "outputs": [
    {
     "data": {
      "text/plain": [
       "()"
      ]
     },
     "execution_count": 6,
     "metadata": {},
     "output_type": "execute_result"
    }
   ],
   "source": [
    "let mut encount_steps = Vec::new();\n",
    "for i in 0..sample {\n",
    "    let slice = &sequence[i..i+trial];\n",
    "    let encount_step = slice.iter().fold(0, |acc, v| acc + *v);\n",
    "    encount_steps.push(encount_step);\n",
    "}"
   ]
  },
  {
   "cell_type": "markdown",
   "metadata": {},
   "source": [
    "### 2.3. エンカウント歩数の分布を描画する\n",
    "\n",
    "分布を描画してみましょう。 Rustのグラフ描画のcrateを探したところ、 [plotter](https://docs.rs/plotters/0.2.12/plotters/index.html)が一番良さそうだったのでこれを使ってみます。"
   ]
  },
  {
   "cell_type": "code",
   "execution_count": 7,
   "metadata": {},
   "outputs": [
    {
     "data": {
      "text/html": [
       "<div style=\"\"><svg width=\"960\" height=\"540\" viewBox=\"0 0 960 540\" xmlns=\"http://www.w3.org/2000/svg\">\n",
       "<rect x=\"0\" y=\"0\" width=\"959\" height=\"539\" opacity=\"1\" fill=\"#FFFFFF\" stroke=\"none\"/>\n",
       "<text x=\"480\" y=\"10\" dy=\"0.76em\" text-anchor=\"middle\" font-family=\"sans-serif\" font-size=\"24.193548387096776\" opacity=\"1\" fill=\"#000000\">\n",
       "Distribution of Encount Step\n",
       "</text>\n",
       "<text x=\"5\" y=\"270\" dy=\"0.76em\" text-anchor=\"middle\" font-family=\"sans-serif\" font-size=\"12.096774193548388\" opacity=\"1\" fill=\"#000000\" transform=\"rotate(270, 5, 270)\">\n",
       "Probability\n",
       "</text>\n",
       "<text x=\"500\" y=\"535\" dy=\"-0.5ex\" text-anchor=\"middle\" font-family=\"sans-serif\" font-size=\"12.096774193548388\" opacity=\"1\" fill=\"#000000\">\n",
       "Encount Step\n",
       "</text>\n",
       "<polyline fill=\"none\" opacity=\"1\" stroke=\"#000000\" stroke-width=\"1\" points=\"44,40 44,500 \"/>\n",
       "<text x=\"35\" y=\"453\" dy=\"0.5ex\" text-anchor=\"end\" font-family=\"sans-serif\" font-size=\"9.67741935483871\" opacity=\"1\" fill=\"#000000\">\n",
       "0.5%\n",
       "</text>\n",
       "<polyline fill=\"none\" opacity=\"1\" stroke=\"#000000\" stroke-width=\"1\" points=\"39,453 44,453 \"/>\n",
       "<text x=\"35\" y=\"407\" dy=\"0.5ex\" text-anchor=\"end\" font-family=\"sans-serif\" font-size=\"9.67741935483871\" opacity=\"1\" fill=\"#000000\">\n",
       "1%\n",
       "</text>\n",
       "<polyline fill=\"none\" opacity=\"1\" stroke=\"#000000\" stroke-width=\"1\" points=\"39,407 44,407 \"/>\n",
       "<text x=\"35\" y=\"361\" dy=\"0.5ex\" text-anchor=\"end\" font-family=\"sans-serif\" font-size=\"9.67741935483871\" opacity=\"1\" fill=\"#000000\">\n",
       "1.5%\n",
       "</text>\n",
       "<polyline fill=\"none\" opacity=\"1\" stroke=\"#000000\" stroke-width=\"1\" points=\"39,361 44,361 \"/>\n",
       "<text x=\"35\" y=\"315\" dy=\"0.5ex\" text-anchor=\"end\" font-family=\"sans-serif\" font-size=\"9.67741935483871\" opacity=\"1\" fill=\"#000000\">\n",
       "2%\n",
       "</text>\n",
       "<polyline fill=\"none\" opacity=\"1\" stroke=\"#000000\" stroke-width=\"1\" points=\"39,315 44,315 \"/>\n",
       "<text x=\"35\" y=\"269\" dy=\"0.5ex\" text-anchor=\"end\" font-family=\"sans-serif\" font-size=\"9.67741935483871\" opacity=\"1\" fill=\"#000000\">\n",
       "2.5%\n",
       "</text>\n",
       "<polyline fill=\"none\" opacity=\"1\" stroke=\"#000000\" stroke-width=\"1\" points=\"39,269 44,269 \"/>\n",
       "<text x=\"35\" y=\"223\" dy=\"0.5ex\" text-anchor=\"end\" font-family=\"sans-serif\" font-size=\"9.67741935483871\" opacity=\"1\" fill=\"#000000\">\n",
       "3%\n",
       "</text>\n",
       "<polyline fill=\"none\" opacity=\"1\" stroke=\"#000000\" stroke-width=\"1\" points=\"39,223 44,223 \"/>\n",
       "<text x=\"35\" y=\"177\" dy=\"0.5ex\" text-anchor=\"end\" font-family=\"sans-serif\" font-size=\"9.67741935483871\" opacity=\"1\" fill=\"#000000\">\n",
       "3.5%\n",
       "</text>\n",
       "<polyline fill=\"none\" opacity=\"1\" stroke=\"#000000\" stroke-width=\"1\" points=\"39,177 44,177 \"/>\n",
       "<text x=\"35\" y=\"131\" dy=\"0.5ex\" text-anchor=\"end\" font-family=\"sans-serif\" font-size=\"9.67741935483871\" opacity=\"1\" fill=\"#000000\">\n",
       "4%\n",
       "</text>\n",
       "<polyline fill=\"none\" opacity=\"1\" stroke=\"#000000\" stroke-width=\"1\" points=\"39,131 44,131 \"/>\n",
       "<text x=\"35\" y=\"85\" dy=\"0.5ex\" text-anchor=\"end\" font-family=\"sans-serif\" font-size=\"9.67741935483871\" opacity=\"1\" fill=\"#000000\">\n",
       "4.5%\n",
       "</text>\n",
       "<polyline fill=\"none\" opacity=\"1\" stroke=\"#000000\" stroke-width=\"1\" points=\"39,85 44,85 \"/>\n",
       "<polyline fill=\"none\" opacity=\"1\" stroke=\"#000000\" stroke-width=\"1\" points=\"45,500 955,500 \"/>\n",
       "<text x=\"75\" y=\"510\" dy=\"0.76em\" text-anchor=\"middle\" font-family=\"sans-serif\" font-size=\"9.67741935483871\" opacity=\"1\" fill=\"#000000\">\n",
       "0\n",
       "</text>\n",
       "<polyline fill=\"none\" opacity=\"1\" stroke=\"#000000\" stroke-width=\"1\" points=\"45,500 45,505 \"/>\n",
       "<text x=\"264\" y=\"510\" dy=\"0.76em\" text-anchor=\"middle\" font-family=\"sans-serif\" font-size=\"9.67741935483871\" opacity=\"1\" fill=\"#000000\">\n",
       "10\n",
       "</text>\n",
       "<polyline fill=\"none\" opacity=\"1\" stroke=\"#000000\" stroke-width=\"1\" points=\"234,500 234,505 \"/>\n",
       "<text x=\"454\" y=\"510\" dy=\"0.76em\" text-anchor=\"middle\" font-family=\"sans-serif\" font-size=\"9.67741935483871\" opacity=\"1\" fill=\"#000000\">\n",
       "20\n",
       "</text>\n",
       "<polyline fill=\"none\" opacity=\"1\" stroke=\"#000000\" stroke-width=\"1\" points=\"424,500 424,505 \"/>\n",
       "<text x=\"643\" y=\"510\" dy=\"0.76em\" text-anchor=\"middle\" font-family=\"sans-serif\" font-size=\"9.67741935483871\" opacity=\"1\" fill=\"#000000\">\n",
       "30\n",
       "</text>\n",
       "<polyline fill=\"none\" opacity=\"1\" stroke=\"#000000\" stroke-width=\"1\" points=\"613,500 613,505 \"/>\n",
       "<text x=\"833\" y=\"510\" dy=\"0.76em\" text-anchor=\"middle\" font-family=\"sans-serif\" font-size=\"9.67741935483871\" opacity=\"1\" fill=\"#000000\">\n",
       "40\n",
       "</text>\n",
       "<polyline fill=\"none\" opacity=\"1\" stroke=\"#000000\" stroke-width=\"1\" points=\"803,500 803,505 \"/>\n",
       "<rect x=\"827\" y=\"432\" width=\"9\" height=\"67\" opacity=\"0.5\" fill=\"#FF0000\" stroke=\"none\"/>\n",
       "<rect x=\"618\" y=\"163\" width=\"9\" height=\"336\" opacity=\"0.5\" fill=\"#FF0000\" stroke=\"none\"/>\n",
       "<rect x=\"391\" y=\"157\" width=\"9\" height=\"342\" opacity=\"0.5\" fill=\"#FF0000\" stroke=\"none\"/>\n",
       "<rect x=\"467\" y=\"101\" width=\"9\" height=\"398\" opacity=\"0.5\" fill=\"#FF0000\" stroke=\"none\"/>\n",
       "<rect x=\"296\" y=\"299\" width=\"9\" height=\"200\" opacity=\"0.5\" fill=\"#FF0000\" stroke=\"none\"/>\n",
       "<rect x=\"87\" y=\"487\" width=\"9\" height=\"12\" opacity=\"0.5\" fill=\"#FF0000\" stroke=\"none\"/>\n",
       "<rect x=\"68\" y=\"492\" width=\"9\" height=\"7\" opacity=\"0.5\" fill=\"#FF0000\" stroke=\"none\"/>\n",
       "<rect x=\"903\" y=\"480\" width=\"9\" height=\"19\" opacity=\"0.5\" fill=\"#FF0000\" stroke=\"none\"/>\n",
       "<rect x=\"125\" y=\"469\" width=\"9\" height=\"30\" opacity=\"0.5\" fill=\"#FF0000\" stroke=\"none\"/>\n",
       "<rect x=\"50\" y=\"496\" width=\"8\" height=\"3\" opacity=\"0.5\" fill=\"#FF0000\" stroke=\"none\"/>\n",
       "<rect x=\"694\" y=\"273\" width=\"9\" height=\"226\" opacity=\"0.5\" fill=\"#FF0000\" stroke=\"none\"/>\n",
       "<rect x=\"656\" y=\"215\" width=\"9\" height=\"284\" opacity=\"0.5\" fill=\"#FF0000\" stroke=\"none\"/>\n",
       "<rect x=\"941\" y=\"493\" width=\"9\" height=\"6\" opacity=\"0.5\" fill=\"#FF0000\" stroke=\"none\"/>\n",
       "<rect x=\"182\" y=\"430\" width=\"9\" height=\"69\" opacity=\"0.5\" fill=\"#FF0000\" stroke=\"none\"/>\n",
       "<rect x=\"561\" y=\"109\" width=\"9\" height=\"390\" opacity=\"0.5\" fill=\"#FF0000\" stroke=\"none\"/>\n",
       "<rect x=\"429\" y=\"121\" width=\"9\" height=\"378\" opacity=\"0.5\" fill=\"#FF0000\" stroke=\"none\"/>\n",
       "<rect x=\"220\" y=\"393\" width=\"9\" height=\"106\" opacity=\"0.5\" fill=\"#FF0000\" stroke=\"none\"/>\n",
       "<rect x=\"846\" y=\"447\" width=\"9\" height=\"52\" opacity=\"0.5\" fill=\"#FF0000\" stroke=\"none\"/>\n",
       "<rect x=\"448\" y=\"110\" width=\"9\" height=\"389\" opacity=\"0.5\" fill=\"#FF0000\" stroke=\"none\"/>\n",
       "<rect x=\"334\" y=\"240\" width=\"9\" height=\"259\" opacity=\"0.5\" fill=\"#FF0000\" stroke=\"none\"/>\n",
       "<rect x=\"201\" y=\"413\" width=\"9\" height=\"86\" opacity=\"0.5\" fill=\"#FF0000\" stroke=\"none\"/>\n",
       "<rect x=\"770\" y=\"375\" width=\"9\" height=\"124\" opacity=\"0.5\" fill=\"#FF0000\" stroke=\"none\"/>\n",
       "<rect x=\"277\" y=\"324\" width=\"9\" height=\"175\" opacity=\"0.5\" fill=\"#FF0000\" stroke=\"none\"/>\n",
       "<rect x=\"144\" y=\"458\" width=\"9\" height=\"41\" opacity=\"0.5\" fill=\"#FF0000\" stroke=\"none\"/>\n",
       "<rect x=\"258\" y=\"350\" width=\"9\" height=\"149\" opacity=\"0.5\" fill=\"#FF0000\" stroke=\"none\"/>\n",
       "<rect x=\"713\" y=\"304\" width=\"9\" height=\"195\" opacity=\"0.5\" fill=\"#FF0000\" stroke=\"none\"/>\n",
       "<rect x=\"732\" y=\"330\" width=\"9\" height=\"169\" opacity=\"0.5\" fill=\"#FF0000\" stroke=\"none\"/>\n",
       "<rect x=\"865\" y=\"461\" width=\"9\" height=\"38\" opacity=\"0.5\" fill=\"#FF0000\" stroke=\"none\"/>\n",
       "<rect x=\"884\" y=\"470\" width=\"9\" height=\"29\" opacity=\"0.5\" fill=\"#FF0000\" stroke=\"none\"/>\n",
       "<rect x=\"372\" y=\"185\" width=\"9\" height=\"314\" opacity=\"0.5\" fill=\"#FF0000\" stroke=\"none\"/>\n",
       "<rect x=\"542\" y=\"104\" width=\"9\" height=\"395\" opacity=\"0.5\" fill=\"#FF0000\" stroke=\"none\"/>\n",
       "<rect x=\"637\" y=\"188\" width=\"9\" height=\"311\" opacity=\"0.5\" fill=\"#FF0000\" stroke=\"none\"/>\n",
       "<rect x=\"808\" y=\"414\" width=\"9\" height=\"85\" opacity=\"0.5\" fill=\"#FF0000\" stroke=\"none\"/>\n",
       "<rect x=\"315\" y=\"270\" width=\"9\" height=\"229\" opacity=\"0.5\" fill=\"#FF0000\" stroke=\"none\"/>\n",
       "<rect x=\"751\" y=\"355\" width=\"9\" height=\"144\" opacity=\"0.5\" fill=\"#FF0000\" stroke=\"none\"/>\n",
       "<rect x=\"163\" y=\"444\" width=\"9\" height=\"55\" opacity=\"0.5\" fill=\"#FF0000\" stroke=\"none\"/>\n",
       "<rect x=\"239\" y=\"371\" width=\"9\" height=\"128\" opacity=\"0.5\" fill=\"#FF0000\" stroke=\"none\"/>\n",
       "<rect x=\"675\" y=\"247\" width=\"9\" height=\"252\" opacity=\"0.5\" fill=\"#FF0000\" stroke=\"none\"/>\n",
       "<rect x=\"789\" y=\"396\" width=\"9\" height=\"103\" opacity=\"0.5\" fill=\"#FF0000\" stroke=\"none\"/>\n",
       "<rect x=\"599\" y=\"140\" width=\"9\" height=\"359\" opacity=\"0.5\" fill=\"#FF0000\" stroke=\"none\"/>\n",
       "<rect x=\"486\" y=\"96\" width=\"9\" height=\"403\" opacity=\"0.5\" fill=\"#FF0000\" stroke=\"none\"/>\n",
       "<rect x=\"353\" y=\"213\" width=\"9\" height=\"286\" opacity=\"0.5\" fill=\"#FF0000\" stroke=\"none\"/>\n",
       "<rect x=\"960\" y=\"497\" width=\"-10\" height=\"2\" opacity=\"0.5\" fill=\"#FF0000\" stroke=\"none\"/>\n",
       "<rect x=\"410\" y=\"139\" width=\"9\" height=\"360\" opacity=\"0.5\" fill=\"#FF0000\" stroke=\"none\"/>\n",
       "<rect x=\"523\" y=\"99\" width=\"9\" height=\"400\" opacity=\"0.5\" fill=\"#FF0000\" stroke=\"none\"/>\n",
       "<rect x=\"580\" y=\"124\" width=\"9\" height=\"375\" opacity=\"0.5\" fill=\"#FF0000\" stroke=\"none\"/>\n",
       "<rect x=\"505\" y=\"91\" width=\"8\" height=\"408\" opacity=\"0.5\" fill=\"#FF0000\" stroke=\"none\"/>\n",
       "<rect x=\"106\" y=\"478\" width=\"9\" height=\"21\" opacity=\"0.5\" fill=\"#FF0000\" stroke=\"none\"/>\n",
       "<rect x=\"922\" y=\"488\" width=\"9\" height=\"11\" opacity=\"0.5\" fill=\"#FF0000\" stroke=\"none\"/>\n",
       "</svg>\n",
       "</div>"
      ]
     },
     "execution_count": 7,
     "metadata": {},
     "output_type": "execute_result"
    }
   ],
   "source": [
    ":dep plotters = { git = \"https://github.com/38/plotters\", default_features = false, features = [\"evcxr\", \"histogram\"] }\n",
    "use plotters;\n",
    "use plotters::prelude::*;\n",
    "\n",
    "let figure = evcxr_figure((960, 540), |root| {\n",
    "    root.fill(&WHITE);\n",
    "\n",
    "    let mut chart = ChartBuilder::on(&root)\n",
    "        .x_label_area_size(35)\n",
    "        .y_label_area_size(40)\n",
    "        .margin(5)\n",
    "        .caption(\"Distribution of Encount Step\", (\"sans-serif\", 30.0).into_font())\n",
    "        .build_ranged(0u32..upper_sum as u32, 0f32..5f32)?;\n",
    "\n",
    "    chart\n",
    "        .configure_mesh()\n",
    "        .y_label_formatter(&|y| format!(\"{}%\", *y))\n",
    "        .disable_x_mesh()\n",
    "        .disable_y_mesh()\n",
    "        .x_label_offset(30)\n",
    "        .y_desc(\"Probability\")\n",
    "        .x_desc(\"Encount Step\")\n",
    "        .axis_desc_style((\"sans-serif\", 15).into_font())\n",
    "        .draw()?;\n",
    "    \n",
    "    chart.draw_series(\n",
    "        Histogram::vertical(&chart)\n",
    "            .style(RED.mix(0.5).filled())\n",
    "            .data(encount_steps.iter().map(|x: &u8| (*x as u32, 100f32 / sample as f32))),\n",
    "    )?;\n",
    "    \n",
    "    Ok(())\n",
    "});\n",
    "figure"
   ]
  },
  {
   "cell_type": "markdown",
   "metadata": {},
   "source": [
    "ちゃんと描画できました！<br>\n",
    "実際の乱数生成器を使った場合でも、そこまで偏った分布にはならなさそうというのが分かります。"
   ]
  },
  {
   "cell_type": "markdown",
   "metadata": {},
   "source": [
    "## 3. まとめ\n",
    "\n",
    "割と上手くいったので、今後はこんな感じで調査結果の記事とかを書くのがよさそうです。\n",
    "文章や数式も Markdown 使って簡単に書けるので、とても良さそうです。\n",
    "\n",
    "一方で、下記の方な不満点も少しはありました。\n",
    "\n",
    "* crateの読み込みをすると、割と実行時間がかかる\n",
    "* VSCodeのJupyter ExtensionがRustに対応していない\n",
    "  * 補完とか出来なくて辛い...\n",
    "* Rustにグラフ描画\n",
    "  * `matplotlib` のような手軽さか、 `d3.js` のような高機能さに比べると、ちょっと物足りない...\n",
    "  * IPythonのように、 JavaScriptのコードをJupyter上でで実行出来たら嬉しいな。\n",
    " \n",
    "Rustは勢いもあるので、今後の発展に期待することとします。"
   ]
  }
 ],
 "metadata": {
  "kernelspec": {
   "display_name": "Rust",
   "language": "rust",
   "name": "rust"
  },
  "language_info": {
   "codemirror_mode": "rust",
   "file_extension": ".rs",
   "mimetype": "text/rust",
   "name": "Rust",
   "pygment_lexer": "rust",
   "version": ""
  }
 },
 "nbformat": 4,
 "nbformat_minor": 4
}
